{
 "cells": [
  {
   "cell_type": "code",
   "execution_count": 1,
   "id": "654aca21-7a42-4321-98df-d194da7cb06f",
   "metadata": {},
   "outputs": [
    {
     "name": "stdout",
     "output_type": "stream",
     "text": [
      "0 6\n",
      "1 1\n",
      "2 7\n"
     ]
    }
   ],
   "source": [
    "data = [6,1,7]\n",
    "for index, value in enumerate(data):\n",
    "    print(index, value)"
   ]
  },
  {
   "cell_type": "code",
   "execution_count": 2,
   "id": "c42f9d77-1843-4910-bd32-28b70c64f457",
   "metadata": {},
   "outputs": [
    {
     "name": "stdout",
     "output_type": "stream",
     "text": [
      "[[2, 3], [0, 5]]\n"
     ]
    }
   ],
   "source": [
    "def two_sum(data, target):\n",
    "    num_indices = {}\n",
    "    ans = []\n",
    "\n",
    "    for i, num in enumerate(data):\n",
    "        complement = target - num\n",
    "        if complement in num_indices:\n",
    "\n",
    "            ans.append([num_indices[complement], i])\n",
    "\n",
    "        num_indices[num] = i \n",
    "        \n",
    "    return ans\n",
    "\n",
    "data = [6,5,7,1,9,2]\n",
    "target = 8\n",
    "result = two_sum(data, target)\n",
    "print(result)"
   ]
  },
  {
   "cell_type": "code",
   "execution_count": 13,
   "id": "a42fbc0a-8eb2-40f8-831d-3fb7a3a29bfd",
   "metadata": {},
   "outputs": [],
   "source": [
    "num_indices = {}\n",
    "ans = []"
   ]
  },
  {
   "cell_type": "code",
   "execution_count": null,
   "id": "140e9b0c-6f99-4d7e-b8e6-ab11bcdd78a6",
   "metadata": {},
   "outputs": [],
   "source": [
    "for i, num in enumerate(data):\n",
    "    a = 8 - 1 = 7"
   ]
  },
  {
   "cell_type": "code",
   "execution_count": 24,
   "id": "72f5fc5c-bf46-407e-860a-0524400b2be7",
   "metadata": {},
   "outputs": [],
   "source": [
    " ans.append([num_indices[7], 3])"
   ]
  },
  {
   "cell_type": "code",
   "execution_count": 25,
   "id": "52fe773d-1a2e-41ed-b80b-951bc6ce17ba",
   "metadata": {},
   "outputs": [],
   "source": [
    "num_indices[1] = 3"
   ]
  },
  {
   "cell_type": "code",
   "execution_count": 26,
   "id": "50d6217d-33e2-44b7-8c10-babaf675d189",
   "metadata": {},
   "outputs": [
    {
     "data": {
      "text/plain": [
       "{6: 0, 5: 1, 7: 2, 1: 3}"
      ]
     },
     "execution_count": 26,
     "metadata": {},
     "output_type": "execute_result"
    }
   ],
   "source": [
    "num_indices"
   ]
  },
  {
   "cell_type": "code",
   "execution_count": 27,
   "id": "539e9431-41ad-4cf3-8d88-e8d66958e058",
   "metadata": {},
   "outputs": [
    {
     "data": {
      "text/plain": [
       "[[2, 3]]"
      ]
     },
     "execution_count": 27,
     "metadata": {},
     "output_type": "execute_result"
    }
   ],
   "source": [
    "ans"
   ]
  },
  {
   "cell_type": "code",
   "execution_count": null,
   "id": "e73d1cb7-c6df-425d-8968-7a7fcd28409a",
   "metadata": {},
   "outputs": [],
   "source": []
  }
 ],
 "metadata": {
  "kernelspec": {
   "display_name": "Python 3 (ipykernel)",
   "language": "python",
   "name": "python3"
  },
  "language_info": {
   "codemirror_mode": {
    "name": "ipython",
    "version": 3
   },
   "file_extension": ".py",
   "mimetype": "text/x-python",
   "name": "python",
   "nbconvert_exporter": "python",
   "pygments_lexer": "ipython3",
   "version": "3.10.13"
  }
 },
 "nbformat": 4,
 "nbformat_minor": 5
}
